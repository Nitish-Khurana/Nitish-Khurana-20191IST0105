{
  "nbformat": 4,
  "nbformat_minor": 0,
  "metadata": {
    "colab": {
      "name": "20191IST0105_Nitish Khurana_ted_talks.ipynb",
      "provenance": []
    },
    "kernelspec": {
      "name": "python3",
      "display_name": "Python 3"
    },
    "language_info": {
      "name": "python"
    }
  },
  "cells": [
    {
      "cell_type": "code",
      "metadata": {
        "colab": {
          "base_uri": "https://localhost:8080/"
        },
        "id": "PxpWju2e8Vyu",
        "outputId": "ef898c08-1720-4212-c071-fe8eac4f4a74"
      },
      "source": [
        "import numpy as np\n",
        "import pandas as pd\n",
        "data = pd.read_csv(\"ted_talks.csv\")\n",
        "print(data.head())"
      ],
      "execution_count": 2,
      "outputs": [
        {
          "output_type": "stream",
          "name": "stdout",
          "text": [
            "                                          transcript                                                url\n",
            "0  Good morning. How are you?(Laughter)It's been ...  https://www.ted.com/talks/ken_robinson_says_sc...\n",
            "1  Thank you so much, Chris. And it's truly a gre...  https://www.ted.com/talks/al_gore_on_averting_...\n",
            "2  (Music: \"The Sound of Silence,\" Simon & Garfun...  https://www.ted.com/talks/david_pogue_says_sim...\n",
            "3  If you're here today — and I'm very happy that...  https://www.ted.com/talks/majora_carter_s_tale...\n",
            "4  About 10 years ago, I took on the task to teac...  https://www.ted.com/talks/hans_rosling_shows_t...\n"
          ]
        }
      ]
    },
    {
      "cell_type": "code",
      "metadata": {
        "id": "VwUMY9Qw_Nob"
      },
      "source": [
        "data[\"title\"] = data[\"url\"].map(lambda x:x.split(\"/\")[-1])"
      ],
      "execution_count": 5,
      "outputs": []
    },
    {
      "cell_type": "code",
      "metadata": {
        "id": "x16LR_cV-Wlz"
      },
      "source": [
        "from sklearn.feature_extraction import text\n",
        "ted_talks = data[\"transcript\"].tolist()\n",
        "bi_tfidf = text.TfidfVectorizer(input=ted_talks, stop_words=\"english\", ngram_range=(1,2))\n",
        "bi_matrix = bi_tfidf.fit_transform(ted_talks)\n",
        "\n",
        "uni_tfidf = text.TfidfVectorizer(input=ted_talks, stop_words=\"english\")\n",
        "uni_matrix = uni_tfidf.fit_transform(ted_talks)\n",
        "\n",
        "from sklearn.metrics.pairwise import cosine_similarity\n",
        "bi_sim = cosine_similarity(bi_matrix)\n",
        "uni_sim = cosine_similarity(uni_matrix)"
      ],
      "execution_count": 7,
      "outputs": []
    },
    {
      "cell_type": "code",
      "metadata": {
        "colab": {
          "base_uri": "https://localhost:8080/"
        },
        "id": "GHsEApyj-pwB",
        "outputId": "9885bbcf-f473-4276-c25c-5f6678dd6535"
      },
      "source": [
        "def recommend_ted_talks(x):\n",
        "    return \".\".join(data[\"title\"].loc[x.argsort()[-5:-1]])\n",
        "    \n",
        "data[\"ted_talks_uni\"] = [recommend_ted_talks(x) for x in uni_sim]\n",
        "data[\"ted_talks_bi\"] = [recommend_ted_talks(x) for x in bi_sim]\n",
        "print(data['ted_talks_uni'].str.replace(\"_\", \" \").str.upper().str.strip().str.split(\"\\n\")[1])"
      ],
      "execution_count": 8,
      "outputs": [
        {
          "output_type": "stream",
          "name": "stdout",
          "text": [
            "['RORY BREMNER S ONE MAN WORLD SUMMIT', '.ALICE BOWS LARKIN WE RE TOO LATE TO PREVENT CLIMATE CHANGE HERE S HOW WE ADAPT', '.TED HALSTEAD A CLIMATE SOLUTION WHERE ALL SIDES CAN WIN', '.AL GORE S NEW THINKING ON THE CLIMATE CRISIS']\n"
          ]
        }
      ]
    }
  ]
}